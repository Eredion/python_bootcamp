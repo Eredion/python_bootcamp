{
 "cells": [
  {
   "cell_type": "code",
   "execution_count": 23,
   "id": "1f9bcb8f",
   "metadata": {},
   "outputs": [],
   "source": [
    "import numpy as np\n",
    "import matplotlib.pyplot as plt\n",
    "import pandas as pd\n",
    "from polynomial_model import add_polynomial_features\n",
    "from mylinearregression import MyLinearRegression as MyLR\n",
    "from minmax import minmax\n"
   ]
  },
  {
   "cell_type": "code",
   "execution_count": 19,
   "id": "54608ae0",
   "metadata": {},
   "outputs": [],
   "source": [
    "data = pd.read_csv('./space_avocado.csv')\n",
    "npData = data.to_numpy()[:,1:]"
   ]
  },
  {
   "cell_type": "code",
   "execution_count": 26,
   "id": "e7d7618d",
   "metadata": {},
   "outputs": [
    {
     "data": {
      "image/png": "[encoded data removed]",
      "text/plain": [
       "<Figure size 432x288 with 1 Axes>"
      ]
     },
     "metadata": {
      "needs_background": "light"
     },
     "output_type": "display_data"
    }
   ],
   "source": [
    "## Weigt & Target\n",
    "test = npData[0:100]\n",
    "plt.plot(minmax(test[:,-1]), minmax(test[:,0]), 'o')\n",
    "plt.show()"
   ]
  },
  {
   "cell_type": "code",
   "execution_count": null,
   "id": "a54dfb91",
   "metadata": {},
   "outputs": [],
   "source": []
  }
 ],
 "metadata": {
  "kernelspec": {
   "display_name": "Python 3 (ipykernel)",
   "language": "python",
   "name": "python3"
  },
  "language_info": {
   "codemirror_mode": {
    "name": "ipython",
    "version": 3
   },
   "file_extension": ".py",
   "mimetype": "text/x-python",
   "name": "python",
   "nbconvert_exporter": "python",
   "pygments_lexer": "ipython3",
   "version": "3.8.10"
  }
 },
 "nbformat": 4,
 "nbformat_minor": 5
}
